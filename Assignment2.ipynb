{
 "cells": [
  {
   "cell_type": "markdown",
   "metadata": {},
   "source": [
    "## Import Statements\n",
    "\n"
   ]
  },
  {
   "cell_type": "code",
   "execution_count": 1,
   "metadata": {
    "collapsed": false
   },
   "outputs": [],
   "source": [
    "import pylab\n",
    "from numpy import *\n",
    "import pandas as pd\n",
    "import sklearn\n",
    "from sklearn.neural_network import MLPClassifier, MLPRegressor\n",
    "from sklearn.model_selection import train_test_split\n",
    "from sklearn.svm import LinearSVC, SVC\n",
    "from sklearn.multiclass import OneVsRestClassifier\n",
    "from sklearn.tree import DecisionTreeClassifier\n",
    "from sklearn import preprocessing\n",
    "import numpy as np\n",
    "import mnist\n",
    "import matplotlib.pyplot as plt"
   ]
  },
  {
   "cell_type": "markdown",
   "metadata": {},
   "source": [
    "# Retrieving Data from the dataset files"
   ]
  },
  {
   "cell_type": "markdown",
   "metadata": {},
   "source": [
    "1. Load Data from the training set, We will take only 20000 dataframe.\n",
    "2. Reshape the representation of each image to a 1D Array to feed it to our MLP\n",
    "\n",
    "3. Load Data from the testing set to start testing right after training the machine.\n"
   ]
  },
  {
   "cell_type": "code",
   "execution_count": 2,
   "metadata": {
    "collapsed": true
   },
   "outputs": [],
   "source": [
    "images, labels = mnist.load_mnist('training',selection=slice(0, 20000))\n",
    "images = images.reshape(len(images),-1)\n",
    "\n",
    "testing_images, testing_labels = mnist.load_mnist('testing',selection=slice(0, 5000))\n",
    "testing_images = testing_images.reshape(len(testing_images),-1)"
   ]
  },
  {
   "cell_type": "markdown",
   "metadata": {},
   "source": [
    "### Testing MLP Classifier with 1 hidden node and Printing out the error score with respect to the testing sets"
   ]
  },
  {
   "cell_type": "code",
   "execution_count": 3,
   "metadata": {
    "collapsed": false
   },
   "outputs": [
    {
     "name": "stdout",
     "output_type": "stream",
     "text": [
      "0.4706\n"
     ]
    }
   ],
   "source": [
    "mlp_classifier = MLPClassifier(hidden_layer_sizes=1)\n",
    "mlp_classifier = OneVsRestClassifier(mlp_classifier)\n",
    "mlp_classifier.fit(images,labels)\n",
    "print(mlp_classifier.score(testing_images,testing_labels))"
   ]
  },
  {
   "cell_type": "markdown",
   "metadata": {},
   "source": [
    "# Start Plot"
   ]
  },
  {
   "cell_type": "markdown",
   "metadata": {},
   "source": [
    "* Initialising layers_x_axis and layers_y_axis for plotting\n",
    "    * layers_x_axis will represent the number of hidden layers used in our MLP\n",
    "    * layers_y_axis will represent the accuracy level with respect to the number of used hidden nodes"
   ]
  },
  {
   "cell_type": "code",
   "execution_count": null,
   "metadata": {
    "collapsed": false
   },
   "outputs": [
    {
     "name": "stdout",
     "output_type": "stream",
     "text": [
      "[1, 6, 11, 16, 21, 26, 31, 36, 41, 46, 51, 56, 61, 66, 71, 76, 81, 86, 91, 96]\n"
     ]
    }
   ],
   "source": [
    "layers_x_axis = range(1,97,5)\n",
    "layers_y_axis = []\n",
    "layers = np.array([5])\n",
    "print(layers_x_axis)"
   ]
  },
  {
   "cell_type": "markdown",
   "metadata": {},
   "source": [
    "Every Iteration 5 layers will be added to the MLP each one of these layers will consist of 5 hidden nodes"
   ]
  },
  {
   "cell_type": "code",
   "execution_count": null,
   "metadata": {
    "collapsed": false
   },
   "outputs": [],
   "source": [
    "for i in range(1,97,5):\n",
    "    mlp_classifier = MLPClassifier(hidden_layer_sizes=layers)\n",
    "    mlp_classifier = OneVsRestClassifier(mlp_classifier)\n",
    "    mlp_classifier.fit(images,labels)\n",
    "    layers_y_axis.append(mlp_classifier.score(testing_images,testing_labels))\n",
    "    layers = np.concatenate((layers,[5,5,5,5,5]))\n",
    "print(layers_x_axis)\n",
    "print(layers_y_axis)"
   ]
  },
  {
   "cell_type": "code",
   "execution_count": null,
   "metadata": {
    "collapsed": false
   },
   "outputs": [],
   "source": [
    "pylab.xlabel(\"Number of Hidden Layers\")\n",
    "pylab.ylabel(\"Accuracy Value\")\n",
    "pylab.plot(layers_x_axis,layers_y_axis)\n",
    "pylab.show()"
   ]
  },
  {
   "cell_type": "markdown",
   "metadata": {},
   "source": [
    "# Start Plot"
   ]
  },
  {
   "cell_type": "markdown",
   "metadata": {},
   "source": [
    "* Initialising nodes_x_axis and nodes_y_axis for plotting\n",
    "    * nodes_x_axis will represent the number of hidden nodes used in our MLP\n",
    "    * nodes_y_axis will represent the accuracy level with respect to the number of used hidden nodes"
   ]
  },
  {
   "cell_type": "code",
   "execution_count": null,
   "metadata": {
    "collapsed": false
   },
   "outputs": [],
   "source": [
    "nodes_x_axis = range(1,97,5)\n",
    "nodes_y_axis = []\n",
    "print(nodes_x_axis)"
   ]
  },
  {
   "cell_type": "code",
   "execution_count": null,
   "metadata": {
    "collapsed": false
   },
   "outputs": [],
   "source": [
    "for i in range(1,97,5):\n",
    "    mlp_classifier = MLPClassifier(hidden_layer_sizes=i)\n",
    "    mlp_classifier = OneVsRestClassifier(mlp_classifier)\n",
    "    mlp_classifier.fit(images,labels)\n",
    "    nodes_y_axis.append(mlp_classifier.score(testing_images,testing_labels))\n",
    "print(nodes_x_axis)\n",
    "print(nodes_y_axis)"
   ]
  },
  {
   "cell_type": "code",
   "execution_count": null,
   "metadata": {
    "collapsed": false
   },
   "outputs": [],
   "source": [
    "pylab.xlabel(\"Number of Hidden Nodes\")\n",
    "pylab.ylabel(\"Accuracy Value\")\n",
    "pylab.plot(nodes_x_axis,nodes_y_axis)\n",
    "pylab.show()"
   ]
  },
  {
   "cell_type": "markdown",
   "metadata": {},
   "source": [
    "# Plotting Different Activation Functions"
   ]
  },
  {
   "cell_type": "code",
   "execution_count": null,
   "metadata": {
    "collapsed": false
   },
   "outputs": [],
   "source": [
    "activation =  ['identity', 'logistic', 'tanh', 'relu']\n",
    "\n",
    "for i in activation:\n",
    "    mlp_classifier = MLPClassifier(activation=i)\n",
    "    mlp_classifier = OneVsRestClassifier(mlp_classifier)\n",
    "    mlp_classifier.fit(images,labels)\n",
    "    print(i,mlp_classifier.score(testing_images,testing_labels))"
   ]
  },
  {
   "cell_type": "markdown",
   "metadata": {},
   "source": [
    "# Plotting Different Learning Rates"
   ]
  },
  {
   "cell_type": "code",
   "execution_count": null,
   "metadata": {
    "collapsed": false
   },
   "outputs": [],
   "source": [
    "learning_rates =  ['constant', 'invscaling', 'adaptive']\n",
    "\n",
    "for i in learning_rates:\n",
    "    mlp_classifier = MLPClassifier(learning_rate=i)\n",
    "    mlp_classifier = OneVsRestClassifier(mlp_classifier)\n",
    "    mlp_classifier.fit(images,labels)\n",
    "    print(i,mlp_classifier.score(testing_images,testing_labels))"
   ]
  },
  {
   "cell_type": "markdown",
   "metadata": {},
   "source": [
    "# Plotting Different Momentums"
   ]
  },
  {
   "cell_type": "code",
   "execution_count": null,
   "metadata": {
    "collapsed": false
   },
   "outputs": [],
   "source": [
    "momentum_x_axis = []\n",
    "momentum_y_axis = []"
   ]
  },
  {
   "cell_type": "code",
   "execution_count": null,
   "metadata": {
    "collapsed": true
   },
   "outputs": [],
   "source": [
    "for i in range(0,0.9,0.05):\n",
    "    mlp_classifier = MLPClassifier(momentum=i)\n",
    "    mlp_classifier = OneVsRestClassifier(mlp_classifier)\n",
    "    mlp_classifier.fit(images,labels)\n",
    "    momentum_x_axis.append(i)\n",
    "    momentum_y_axis.append(mlp_classifier.score(testing_images,testing_labels))"
   ]
  },
  {
   "cell_type": "code",
   "execution_count": null,
   "metadata": {
    "collapsed": false
   },
   "outputs": [],
   "source": [
    "pylab.xlabel(\"Value of Momentum\")\n",
    "pylab.ylabel(\"Accuracy Value\")\n",
    "pylab.plot(momentum_x_axis,momentum_y_axis)\n",
    "pylab.show()"
   ]
  },
  {
   "cell_type": "markdown",
   "metadata": {},
   "source": [
    "# Accuracy Level on different Training Styles"
   ]
  },
  {
   "cell_type": "code",
   "execution_count": null,
   "metadata": {
    "collapsed": true
   },
   "outputs": [],
   "source": []
  },
  {
   "cell_type": "code",
   "execution_count": null,
   "metadata": {
    "collapsed": false
   },
   "outputs": [],
   "source": [
    "batch_sizes =  [1, 20000, 'auto']\n",
    "\n",
    "for i in batch_sizes:\n",
    "    mlp_classifier = MLPClassifier(batch_size=i)\n",
    "    mlp_classifier = OneVsRestClassifier(mlp_classifier)\n",
    "    mlp_classifier.fit(images,labels)\n",
    "    print(i,mlp_classifier.score(testing_images,testing_labels))"
   ]
  },
  {
   "cell_type": "code",
   "execution_count": null,
   "metadata": {
    "collapsed": true
   },
   "outputs": [],
   "source": []
  }
 ],
 "metadata": {
  "anaconda-cloud": {},
  "kernelspec": {
   "display_name": "Python [default]",
   "language": "python",
   "name": "python2"
  },
  "language_info": {
   "codemirror_mode": {
    "name": "ipython",
    "version": 2
   },
   "file_extension": ".py",
   "mimetype": "text/x-python",
   "name": "python",
   "nbconvert_exporter": "python",
   "pygments_lexer": "ipython2",
   "version": "2.7.12"
  }
 },
 "nbformat": 4,
 "nbformat_minor": 0
}
