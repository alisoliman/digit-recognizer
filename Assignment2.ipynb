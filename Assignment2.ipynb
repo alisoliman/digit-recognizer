{
 "cells": [
  {
   "cell_type": "markdown",
   "metadata": {},
   "source": [
    "# Assignment 2"
   ]
  },
  {
   "cell_type": "markdown",
   "metadata": {},
   "source": [
    "## I. MLP"
   ]
  },
  {
   "cell_type": "markdown",
   "metadata": {},
   "source": [
    "### Import Statements\n",
    "\n"
   ]
  },
  {
   "cell_type": "code",
   "execution_count": 6,
   "metadata": {
    "collapsed": false
   },
   "outputs": [],
   "source": [
    "import pylab\n",
    "from numpy import *\n",
    "import pandas as pd\n",
    "import sklearn\n",
    "from sklearn.neural_network import MLPClassifier, MLPRegressor\n",
    "from sklearn.model_selection import train_test_split\n",
    "from sklearn.svm import LinearSVC, SVC\n",
    "from sklearn.multiclass import OneVsRestClassifier\n",
    "from sklearn.tree import DecisionTreeClassifier\n",
    "from sklearn import preprocessing\n",
    "import numpy as np\n",
    "import mnist\n",
    "import matplotlib.pyplot as plt"
   ]
  },
  {
   "cell_type": "markdown",
   "metadata": {},
   "source": [
    "### Reading data from the dataset files"
   ]
  },
  {
   "cell_type": "markdown",
   "metadata": {},
   "source": [
    "1. Load data from the training set, We will take only 20000 dataframe.\n",
    "2. Reshape the representation of each image to a 1D Array to feed it to our MLP\n",
    "3. Load data from the testing set to start testing right after training the machine.\n"
   ]
  },
  {
   "cell_type": "code",
   "execution_count": 7,
   "metadata": {
    "collapsed": true
   },
   "outputs": [],
   "source": [
    "images, labels = mnist.load_mnist('training',selection=slice(0, 20000))\n",
    "images = images.reshape(len(images),-1)\n",
    "\n",
    "testing_images, testing_labels = mnist.load_mnist('testing',selection=slice(0, 5000))\n",
    "testing_images = testing_images.reshape(len(testing_images),-1)"
   ]
  },
  {
   "cell_type": "markdown",
   "metadata": {},
   "source": [
    "### Testing MLP Classifier with 1 hidden node and Printing out the error score with respect to the testing sets"
   ]
  },
  {
   "cell_type": "code",
   "execution_count": 3,
   "metadata": {
    "collapsed": false
   },
   "outputs": [
    {
     "name": "stdout",
     "output_type": "stream",
     "text": [
      "0.4706\n"
     ]
    }
   ],
   "source": [
    "mlp_classifier = MLPClassifier(hidden_layer_sizes=1)\n",
    "mlp_classifier = OneVsRestClassifier(mlp_classifier)\n",
    "mlp_classifier.fit(images,labels)\n",
    "print(mlp_classifier.score(testing_images,testing_labels))"
   ]
  },
  {
   "cell_type": "markdown",
   "metadata": {},
   "source": [
    "Using only 1 node will make it much harder for the machine to classify between different types of digits provided. Therefore, As we can see the accuracy value is very low."
   ]
  },
  {
   "cell_type": "markdown",
   "metadata": {},
   "source": [
    "### Plot number of layers with respect to its corresponding accuracy value achieved."
   ]
  },
  {
   "cell_type": "markdown",
   "metadata": {},
   "source": [
    "* Initialising layers_x_axis and layers_y_axis for plotting\n",
    "    * layers_x_axis will represent the number of hidden layers used in our MLP\n",
    "    * layers_y_axis will represent the accuracy level with respect to the number of used hidden nodes"
   ]
  },
  {
   "cell_type": "code",
   "execution_count": 4,
   "metadata": {
    "collapsed": false
   },
   "outputs": [
    {
     "name": "stdout",
     "output_type": "stream",
     "text": [
      "[1, 6, 11, 16, 21, 26, 31, 36, 41, 46, 51, 56, 61, 66, 71, 76, 81, 86, 91, 96]\n"
     ]
    }
   ],
   "source": [
    "layers_x_axis = range(1,97,5)\n",
    "layers_y_axis = []\n",
    "layers = np.array([5])\n",
    "print(layers_x_axis)"
   ]
  },
  {
   "cell_type": "markdown",
   "metadata": {},
   "source": [
    "Every Iteration 5 layers will be added to the MLP each one of these layers will consist of 5 hidden nodes"
   ]
  },
  {
   "cell_type": "code",
   "execution_count": 5,
   "metadata": {
    "collapsed": false
   },
   "outputs": [
    {
     "name": "stdout",
     "output_type": "stream",
     "text": [
      "[1, 6, 11, 16, 21, 26, 31, 36, 41, 46, 51, 56, 61, 66, 71, 76, 81, 86, 91, 96]\n",
      "[0.93640000000000001, 0.89900000000000002, 0.80820000000000003, 0.20619999999999999, 0.48859999999999998, 0.3004, 0.2122, 0.1142, 0.1142, 0.1142, 0.1142, 0.1142, 0.1142, 0.1142, 0.1142, 0.1142, 0.1142, 0.1142, 0.1142, 0.1142]\n"
     ]
    }
   ],
   "source": [
    "for i in range(1,97,5):\n",
    "    mlp_classifier = MLPClassifier(hidden_layer_sizes=layers)\n",
    "    mlp_classifier = OneVsRestClassifier(mlp_classifier)\n",
    "    mlp_classifier.fit(images,labels)\n",
    "    layers_y_axis.append(mlp_classifier.score(testing_images,testing_labels))\n",
    "    layers = np.concatenate((layers,[5,5,5,5,5]))\n",
    "print(layers_x_axis)\n",
    "print(layers_y_axis)"
   ]
  },
  {
   "cell_type": "code",
   "execution_count": 6,
   "metadata": {
    "collapsed": false
   },
   "outputs": [
    {
     "data": {
      "image/png": "[encoded data removed]",
      "text/plain": [
       "<matplotlib.figure.Figure at 0x11736e150>"
      ]
     },
     "metadata": {},
     "output_type": "display_data"
    }
   ],
   "source": [
    "pylab.xlabel(\"Number of Hidden Layers\")\n",
    "pylab.ylabel(\"Accuracy Value\")\n",
    "pylab.plot(layers_x_axis,layers_y_axis)\n",
    "pylab.show()"
   ]
  },
  {
   "cell_type": "markdown",
   "metadata": {},
   "source": [
    "Due to the largely increasing number of hidden layers, Overfitting occured which lead into increasing false detection for the testing data with the increase of the hidden layers."
   ]
  },
  {
   "cell_type": "markdown",
   "metadata": {},
   "source": [
    "# Start Plot"
   ]
  },
  {
   "cell_type": "markdown",
   "metadata": {},
   "source": [
    "* Initialising nodes_x_axis and nodes_y_axis for plotting\n",
    "    * nodes_x_axis will represent the number of hidden nodes used in our MLP\n",
    "    * nodes_y_axis will represent the accuracy level with respect to the number of used hidden nodes"
   ]
  },
  {
   "cell_type": "code",
   "execution_count": 7,
   "metadata": {
    "collapsed": false
   },
   "outputs": [
    {
     "name": "stdout",
     "output_type": "stream",
     "text": [
      "[1, 6, 11, 16, 21, 26, 31, 36, 41, 46, 51, 56, 61, 66, 71, 76, 81, 86, 91, 96]\n"
     ]
    }
   ],
   "source": [
    "nodes_x_axis = range(1,97,5)\n",
    "nodes_y_axis = []\n",
    "print(nodes_x_axis)"
   ]
  },
  {
   "cell_type": "code",
   "execution_count": 8,
   "metadata": {
    "collapsed": false
   },
   "outputs": [
    {
     "name": "stdout",
     "output_type": "stream",
     "text": [
      "[1, 6, 11, 16, 21, 26, 31, 36, 41, 46, 51, 56, 61, 66, 71, 76, 81, 86, 91, 96]\n",
      "[0.62480000000000002, 0.93820000000000003, 0.95279999999999998, 0.95879999999999999, 0.95699999999999996, 0.95860000000000001, 0.95999999999999996, 0.96319999999999995, 0.96399999999999997, 0.96360000000000001, 0.96299999999999997, 0.96240000000000003, 0.96360000000000001, 0.96340000000000003, 0.96619999999999995, 0.96440000000000003, 0.96540000000000004, 0.96519999999999995, 0.96440000000000003, 0.96340000000000003]\n"
     ]
    }
   ],
   "source": [
    "for i in range(1,97,5):\n",
    "    mlp_classifier = MLPClassifier(hidden_layer_sizes=i)\n",
    "    mlp_classifier = OneVsRestClassifier(mlp_classifier)\n",
    "    mlp_classifier.fit(images,labels)\n",
    "    nodes_y_axis.append(mlp_classifier.score(testing_images,testing_labels))\n",
    "print(nodes_x_axis)\n",
    "print(nodes_y_axis)"
   ]
  },
  {
   "cell_type": "code",
   "execution_count": 9,
   "metadata": {
    "collapsed": false
   },
   "outputs": [
    {
     "data": {
      "image/png": "[encoded data removed]",
      "text/plain": [
       "<matplotlib.figure.Figure at 0x11a073b90>"
      ]
     },
     "metadata": {},
     "output_type": "display_data"
    }
   ],
   "source": [
    "pylab.xlabel(\"Number of Hidden Nodes\")\n",
    "pylab.ylabel(\"Accuracy Value\")\n",
    "pylab.plot(nodes_x_axis,nodes_y_axis)\n",
    "pylab.show()"
   ]
  },
  {
   "cell_type": "markdown",
   "metadata": {},
   "source": [
    "# Plotting Different Activation Functions"
   ]
  },
  {
   "cell_type": "code",
   "execution_count": 10,
   "metadata": {
    "collapsed": false
   },
   "outputs": [
    {
     "name": "stdout",
     "output_type": "stream",
     "text": [
      "('identity', 0.88819999999999999)\n",
      "('logistic', 0.95920000000000005)\n",
      "('tanh', 0.96240000000000003)\n",
      "('relu', 0.96360000000000001)\n"
     ]
    }
   ],
   "source": [
    "activation =  ['identity', 'logistic', 'tanh', 'relu']\n",
    "\n",
    "for i in activation:\n",
    "    mlp_classifier = MLPClassifier(activation=i)\n",
    "    mlp_classifier = OneVsRestClassifier(mlp_classifier)\n",
    "    mlp_classifier.fit(images,labels)\n",
    "    print(i,mlp_classifier.score(testing_images,testing_labels))"
   ]
  },
  {
   "cell_type": "markdown",
   "metadata": {},
   "source": [
    "# Plotting Different Learning Rates"
   ]
  },
  {
   "cell_type": "code",
   "execution_count": 11,
   "metadata": {
    "collapsed": false
   },
   "outputs": [
    {
     "name": "stdout",
     "output_type": "stream",
     "text": [
      "('constant', 0.96779999999999999)\n",
      "('invscaling', 0.96440000000000003)\n",
      "('adaptive', 0.96560000000000001)\n"
     ]
    }
   ],
   "source": [
    "learning_rates =  ['constant', 'invscaling', 'adaptive']\n",
    "\n",
    "for i in learning_rates:\n",
    "    mlp_classifier = MLPClassifier(learning_rate=i)\n",
    "    mlp_classifier = OneVsRestClassifier(mlp_classifier)\n",
    "    mlp_classifier.fit(images,labels)\n",
    "    print(i,mlp_classifier.score(testing_images,testing_labels))"
   ]
  },
  {
   "cell_type": "markdown",
   "metadata": {},
   "source": [
    "# Plotting Different Momentums"
   ]
  },
  {
   "cell_type": "code",
   "execution_count": 22,
   "metadata": {
    "collapsed": false
   },
   "outputs": [],
   "source": [
    "momentum_x_axis = []\n",
    "momentum_y_axis = []"
   ]
  },
  {
   "cell_type": "code",
   "execution_count": 23,
   "metadata": {
    "collapsed": false
   },
   "outputs": [],
   "source": [
    "for i in np.linspace(0, 1, num=20):\n",
    "    mlp_classifier = MLPClassifier(solver = 'sgd', momentum=i)\n",
    "    mlp_classifier = OneVsRestClassifier(mlp_classifier)\n",
    "    mlp_classifier.fit(images,labels)\n",
    "    momentum_x_axis.append(i)\n",
    "    momentum_y_axis.append(mlp_classifier.score(testing_images,testing_labels))"
   ]
  },
  {
   "cell_type": "code",
   "execution_count": 24,
   "metadata": {
    "collapsed": false
   },
   "outputs": [
    {
     "data": {
      "image/png": "[encoded data removed]",
      "text/plain": [
       "<matplotlib.figure.Figure at 0x11c7a4850>"
      ]
     },
     "metadata": {},
     "output_type": "display_data"
    }
   ],
   "source": [
    "pylab.xlabel(\"Value of Momentum\")\n",
    "pylab.ylabel(\"Accuracy Value\")\n",
    "pylab.plot(momentum_x_axis,momentum_y_axis)\n",
    "pylab.show()"
   ]
  },
  {
   "cell_type": "markdown",
   "metadata": {},
   "source": [
    "# Accuracy Level on different Training Styles"
   ]
  },
  {
   "cell_type": "markdown",
   "metadata": {
    "collapsed": true
   },
   "source": [
    "1. Starting with sequential data entry\n",
    "2. Next with the whole data set as entry\n",
    "3. Next with mini batches of the whole data set as entry"
   ]
  },
  {
   "cell_type": "code",
   "execution_count": 11,
   "metadata": {
    "collapsed": false
   },
   "outputs": [
    {
     "name": "stdout",
     "output_type": "stream",
     "text": [
      "(1, 0.95020000000000004)\n"
     ]
    },
    {
     "name": "stderr",
     "output_type": "stream",
     "text": [
      "/Users/Ali/anaconda/lib/python2.7/site-packages/sklearn/neural_network/multilayer_perceptron.py:563: ConvergenceWarning: Stochastic Optimizer: Maximum iterations reached and the optimization hasn't converged yet.\n",
      "  % (), ConvergenceWarning)\n"
     ]
    },
    {
     "name": "stdout",
     "output_type": "stream",
     "text": [
      "(20000, 0.78879999999999995)\n",
      "('auto', 0.96440000000000003)\n"
     ]
    }
   ],
   "source": [
    "batch_sizes =  [1, 20000, 'auto']\n",
    "\n",
    "for i in batch_sizes:\n",
    "    mlp_classifier = MLPClassifier(batch_size=i)\n",
    "    mlp_classifier = OneVsRestClassifier(mlp_classifier)\n",
    "    mlp_classifier.fit(images,labels)\n",
    "    print(i,mlp_classifier.score(testing_images,testing_labels))"
   ]
  },
  {
   "cell_type": "markdown",
   "metadata": {
    "collapsed": true
   },
   "source": [
    "## II. SVM"
   ]
  },
  {
   "cell_type": "markdown",
   "metadata": {},
   "source": [
    "Plotting tradeoff parameter C with respect to the Accuracy Value in a OneVsRest SVM"
   ]
  },
  {
   "cell_type": "code",
   "execution_count": 9,
   "metadata": {
    "collapsed": false
   },
   "outputs": [],
   "source": [
    "c_x_axis = []\n",
    "c_y_axis = []"
   ]
  },
  {
   "cell_type": "code",
   "execution_count": 10,
   "metadata": {
    "collapsed": false
   },
   "outputs": [],
   "source": [
    "for i in np.linspace(0.5, 50, num=10):\n",
    "    svm = sklearn.svm.SVC(C=i)\n",
    "    svm = OneVsRestClassifier(svm)\n",
    "    svm.fit(images,labels)\n",
    "    c_x_axis.append(i)\n",
    "    c_y_axis.append(svm.score(testing_images,testing_labels))"
   ]
  },
  {
   "cell_type": "code",
   "execution_count": 12,
   "metadata": {
    "collapsed": false
   },
   "outputs": [
    {
     "data": {
      "image/png": "[encoded data removed]",
      "text/plain": [
       "<matplotlib.figure.Figure at 0x1175720d0>"
      ]
     },
     "metadata": {},
     "output_type": "display_data"
    }
   ],
   "source": [
    "pylab.xlabel(\"Value of C\")\n",
    "pylab.ylabel(\"Accuracy Value\")\n",
    "pylab.plot(c_x_axis,c_y_axis)\n",
    "pylab.show()"
   ]
  },
  {
   "cell_type": "markdown",
   "metadata": {},
   "source": [
    "### Plotting C Value with respect to the Accuracy Value in a OneVsOne SVM"
   ]
  },
  {
   "cell_type": "code",
   "execution_count": 14,
   "metadata": {
    "collapsed": false
   },
   "outputs": [],
   "source": [
    "one_c_x_axis = []\n",
    "one_c_y_axis = []"
   ]
  },
  {
   "cell_type": "code",
   "execution_count": 15,
   "metadata": {
    "collapsed": false
   },
   "outputs": [],
   "source": [
    "for i in np.linspace(0.5, 50, num=10):\n",
    "    svm = sklearn.svm.SVC(C=i)\n",
    "    svm.fit(images,labels)\n",
    "    one_c_x_axis.append(i)\n",
    "    one_c_y_axis.append(svm.score(testing_images,testing_labels))"
   ]
  },
  {
   "cell_type": "code",
   "execution_count": 21,
   "metadata": {
    "collapsed": false
   },
   "outputs": [
    {
     "data": {
      "image/png": "[encoded data removed]",
      "text/plain": [
       "<matplotlib.figure.Figure at 0x117572710>"
      ]
     },
     "metadata": {},
     "output_type": "display_data"
    }
   ],
   "source": [
    "pylab.xlabel(\"Value of C\")\n",
    "pylab.ylabel(\"Accuracy Value\")\n",
    "pylab.plot(one_c_x_axis,one_c_y_axis)\n",
    "pylab.show()"
   ]
  },
  {
   "cell_type": "markdown",
   "metadata": {
    "collapsed": true
   },
   "source": [
    "### Testing Different Kernel Functions in a OneVsRest SVM"
   ]
  },
  {
   "cell_type": "code",
   "execution_count": null,
   "metadata": {
    "collapsed": true
   },
   "outputs": [],
   "source": []
  },
  {
   "cell_type": "code",
   "execution_count": 20,
   "metadata": {
    "collapsed": false
   },
   "outputs": [
    {
     "name": "stdout",
     "output_type": "stream",
     "text": [
      "0.8854\n",
      "0.8438\n",
      "0.8872\n",
      "0.8602\n"
     ]
    }
   ],
   "source": [
    "kernels = ['linear', 'poly', 'rbf', 'sigmoid'] \n",
    "for i in kernels:\n",
    "    svm = sklearn.svm.SVC(kernel=i)\n",
    "    svm = OneVsRestClassifier(svm)\n",
    "    svm.fit(images,labels)\n",
    "    print(svm.score(testing_images,testing_labels))"
   ]
  },
  {
   "cell_type": "markdown",
   "metadata": {
    "collapsed": true
   },
   "source": [
    "### Testing Different Kernel Functions in a OneVsOne SVM"
   ]
  },
  {
   "cell_type": "code",
   "execution_count": 19,
   "metadata": {
    "collapsed": false
   },
   "outputs": [
    {
     "name": "stdout",
     "output_type": "stream",
     "text": [
      "0.9016\n",
      "0.1918\n",
      "0.908\n",
      "0.8934\n"
     ]
    }
   ],
   "source": [
    "kernels = ['linear', 'poly', 'rbf', 'sigmoid'] \n",
    "for i in kernels:\n",
    "    svm = sklearn.svm.SVC(kernel=i)\n",
    "    svm.fit(images,labels)\n",
    "    print(svm.score(testing_images,testing_labels))"
   ]
  },
  {
   "cell_type": "code",
   "execution_count": null,
   "metadata": {
    "collapsed": true
   },
   "outputs": [],
   "source": []
  },
  {
   "cell_type": "code",
   "execution_count": null,
   "metadata": {
    "collapsed": true
   },
   "outputs": [],
   "source": []
  }
 ],
 "metadata": {
  "anaconda-cloud": {},
  "kernelspec": {
   "display_name": "Python [default]",
   "language": "python",
   "name": "python2"
  },
  "language_info": {
   "codemirror_mode": {
    "name": "ipython",
    "version": 2
   },
   "file_extension": ".py",
   "mimetype": "text/x-python",
   "name": "python",
   "nbconvert_exporter": "python",
   "pygments_lexer": "ipython2",
   "version": "2.7.12"
  }
 },
 "nbformat": 4,
 "nbformat_minor": 0
}
